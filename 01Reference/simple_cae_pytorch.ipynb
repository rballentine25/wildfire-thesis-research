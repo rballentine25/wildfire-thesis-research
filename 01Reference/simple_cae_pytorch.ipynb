{
 "cells": [
  {
   "cell_type": "code",
   "execution_count": 1,
   "id": "cba32e05",
   "metadata": {},
   "outputs": [],
   "source": [
    "import torch\n",
    "import torch.nn as nn\n",
    "import torch.optim as optim # for Adam optimizer\n",
    "\n",
    "from torchvision import datasets, transforms # datasets to use MNIST dataset, transforms for converting to tensors etc\n",
    "from torch.utils.data import DataLoader # to batch, shuffle, etc data"
   ]
  },
  {
   "cell_type": "code",
   "execution_count": 2,
   "id": "7a572a5d",
   "metadata": {},
   "outputs": [
    {
     "name": "stderr",
     "output_type": "stream",
     "text": [
      "100%|██████████| 9.91M/9.91M [00:07<00:00, 1.38MB/s]\n",
      "100%|██████████| 28.9k/28.9k [00:00<00:00, 1.48MB/s]\n",
      "100%|██████████| 1.65M/1.65M [00:01<00:00, 1.45MB/s]\n",
      "100%|██████████| 4.54k/4.54k [00:00<00:00, 2.28MB/s]\n"
     ]
    }
   ],
   "source": [
    "stackedTransform = transforms.Compose([\n",
    "    transforms.ToTensor(), # converts from image to tensor (each pixel value changed from 1-255 to 0-1)\n",
    "    transforms.Normalize((0.5,), (0.5,)) # normalizes values from between 0-1 to between -1 to 1\n",
    "])\n",
    "\n",
    "train_data = datasets.MNIST(root=\"/data/MNISTcae\", train=True, transform=stackedTransform, download=True)\n",
    "test_data = datasets.MNIST(root=\"/data/MNISTcae\", train=False, transform=stackedTransform, download=True)\n",
    "\n",
    "train_loader = DataLoader(train_data, batch_size=128, shuffle=True)\n",
    "test_loader = DataLoader(test_data, batch_size=128, shuffle=False)"
   ]
  },
  {
   "cell_type": "code",
   "execution_count": null,
   "id": "2f549778",
   "metadata": {},
   "outputs": [],
   "source": [
    "class CAutoencoder(nn.Module):\n",
    "    def __init__(self):\n",
    "        super(self).__init__()\n",
    "\n",
    "        self.encoder = nn.Sequential(\n",
    "            # following input -> (conv, relu, pool) pattern\n",
    "            nn.Conv2d(in_channels=1, out_channels=16, kernel_size=3, stride=1, padding=1), # (28, 28, 1) -> (28, 28, 16)\n",
    "            nn.ReLU(),\n",
    "            nn.MaxPool2d(kernel_size=2, stride=2), # (28, 28, 16) -> (14, 14, 16)\n",
    "\n",
    "            nn.Conv2d(in_channels=16, out_channels=32, kernel_size=3, stride=1, padding=1), # (14, 14, 16) -> (14, 14, 32)\n",
    "            nn.ReLU(),\n",
    "            nn.MaxPool2d(kernel_size=2, stride=2), # (14, 14, 32) -> (7, 7, 32)\n",
    "            \n",
    "            nn.Conv2d(in_channels=32, out_channels=64, kernel_size=3, stride=1, padding=1), # (7,7,32) -> (7, 7, 64)\n",
    "            nn.ReLU(),\n",
    "            nn.MaxPool2d(kernel_size=2, stride=2, ceil_mode=True), # (7, 7, 64) -> (4, 4, 64) to get more features in latent space?\n",
    "            # latent space is (4, 4, 64) = 1024 features (rather than 3x3x64=576)\n",
    "        )\n",
    "\n",
    "        self.decoder = nn.Sequential(\n",
    "\n",
    "        )\n",
    "\n",
    "    def forward(self, x):\n",
    "        encoded = self.encoder(x)\n",
    "        decoded = self.decoder(encoded)\n",
    "\n",
    "        return decoded"
   ]
  }
 ],
 "metadata": {
  "kernelspec": {
   "display_name": "cae-env",
   "language": "python",
   "name": "python3"
  },
  "language_info": {
   "codemirror_mode": {
    "name": "ipython",
    "version": 3
   },
   "file_extension": ".py",
   "mimetype": "text/x-python",
   "name": "python",
   "nbconvert_exporter": "python",
   "pygments_lexer": "ipython3",
   "version": "3.12.0"
  }
 },
 "nbformat": 4,
 "nbformat_minor": 5
}

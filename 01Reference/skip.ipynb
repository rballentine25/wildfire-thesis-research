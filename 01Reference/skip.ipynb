{
 "cells": [
  {
   "cell_type": "markdown",
   "id": "bc672ca0",
   "metadata": {},
   "source": [
    "# Skip (residual) connections\n",
    "In PyTorch, **skip connections** (also called **residual connections**) are usually implemented by adding the input of a layer (or block) back to its output. This is common in ResNets and many modern architectures.\n",
    "\n",
    "Here’s the general pattern:"
   ]
  },
  {
   "cell_type": "code",
   "execution_count": null,
   "id": "ed1fa696",
   "metadata": {},
   "outputs": [],
   "source": [
    "import torch\n",
    "import torch.nn as nn\n",
    "import torch.nn.functional as F\n",
    "\n",
    "# A simple convolutional NN with a skip connection\n",
    "class ResidualBlock(nn.Module):\n",
    "    def __init__(self, in_channels, out_channels):\n",
    "        super(ResidualBlock, self).__init__()\n",
    "\n",
    "        # Define a simple 2-layer convolutional neural network with batch normalization\n",
    "        # between layers\n",
    "        self.conv1 = nn.Conv2d(in_channels, out_channels, kernel_size=3, padding=1)\n",
    "        self.bn1 = nn.BatchNorm2d(out_channels)\n",
    "        self.conv2 = nn.Conv2d(out_channels, out_channels, kernel_size=3, padding=1)\n",
    "        self.bn2 = nn.BatchNorm2d(out_channels)\n",
    "\n",
    "        # if input and output channel dimensions differ, project with 1x1 conv\n",
    "        # Don't worry too much about this - if you are creating a fixed-size NN and not a generic block you will\n",
    "        # re-size your tensors directly by hand\n",
    "        self.shortcut = nn.Conv2d(in_channels, out_channels, kernel_size=1) if in_channels != out_channels else nn.Identity()\n",
    "\n",
    "    def forward(self, x):\n",
    "        # Before running the convolutions capture the input, x, into 'identity'\n",
    "        # self.shortcut(x) just runs an initial 2d convolution to match input and output sizes\n",
    "        identity = self.shortcut(x)   # skip connection path\n",
    "\n",
    "        # Now run the convolutional and batch normalization layers\n",
    "        out = F.relu(self.bn1(self.conv1(x)))\n",
    "        out = self.bn2(self.conv2(out))\n",
    "\n",
    "        # Here's the important part, just append the original input (identity) to the end of the\n",
    "        # convolutional outputs (the shortcut(x) convolution ensures that they are the same shape)\n",
    "        out += identity    # The skip connection!          \n",
    "        return F.relu(out) # Return the convolutional output + the original data\n"
   ]
  }
 ],
 "metadata": {
  "language_info": {
   "name": "python"
  }
 },
 "nbformat": 4,
 "nbformat_minor": 5
}

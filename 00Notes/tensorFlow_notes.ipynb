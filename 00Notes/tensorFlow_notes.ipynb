{
 "cells": [
  {
   "cell_type": "markdown",
   "metadata": {},
   "source": [
    "# TensorFlow\n",
    "TensorFlow is aa open source machine learning platform. It has a lot of tools for building/training machine learning and deep learning models.  \n",
    "\n",
    "Uses \"tensors\" or multidimensional arrays as the fundamental data structure and \"graphs\" to represent computation"
   ]
  }
 ],
 "metadata": {
  "language_info": {
   "name": "python"
  }
 },
 "nbformat": 4,
 "nbformat_minor": 2
}
